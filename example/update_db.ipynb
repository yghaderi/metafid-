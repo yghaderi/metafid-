{
 "cells": [
  {
   "cell_type": "code",
   "execution_count": 57,
   "metadata": {},
   "outputs": [],
   "source": [
    "import pandas as pd\n",
    "import numpy as np\n",
    "import finpy_tse as fpy\n",
    "import datetime\n",
    "import jdatetime as jdt\n",
    "from CONFIG import DB_PASS as PASS\n",
    "from metafid.mfw import DB\n"
   ]
  },
  {
   "cell_type": "code",
   "execution_count": 58,
   "metadata": {},
   "outputs": [],
   "source": [
    "db = DB(dbname=\"metafid\", user=\"postgres\", pass_=PASS)"
   ]
  },
  {
   "attachments": {},
   "cell_type": "markdown",
   "metadata": {},
   "source": [
    "### Stock List"
   ]
  },
  {
   "cell_type": "code",
   "execution_count": 63,
   "metadata": {},
   "outputs": [],
   "source": [
    "tickers = db.query_all(table=\"tsedata_ticker\", cols=\"symbol, symbol_far,market_id\")\n",
    "tse_tickers= tickers[tickers.market_id==1]"
   ]
  },
  {
   "attachments": {},
   "cell_type": "markdown",
   "metadata": {},
   "source": [
    "### Update `tsedata_section` DB"
   ]
  },
  {
   "cell_type": "code",
   "execution_count": 67,
   "metadata": {},
   "outputs": [],
   "source": [
    "def update_ri(stock_list):\n",
    "\n",
    "    # get max date\n",
    "    date_id = db.query_all(table=\"tsedata_histprice\", cols=\"date_id\")\n",
    "\n",
    "    max_date = date_id.date_id.max()\n",
    "    today = datetime.datetime.today().strftime(\"%Y-%m-%d\")\n",
    "    date = db.query_where(table=\"tsedata_date\", cols=\"date,jweekday\", where=f\" date <= '{today}' and date > '{max_date}'\")\n",
    "    date = date[date.jweekday.isin([0,1,2,3,4])]\n",
    "\n",
    "\n",
    "    # take data an insert to DB\n",
    "    if len(date):\n",
    "        start_date = date.date[0]\n",
    "        start_date = jdt.date.fromgregorian(year = start_date.year, day=start_date.day, month=start_date.month).strftime(\"%Y-%m-%d\")\n",
    "        df = pd.DataFrame()\n",
    "        for stock in stock_list.symbol_far:\n",
    "            df_ri = fpy.Get_RI_History(\n",
    "                stock=stock,\n",
    "                start_date=start_date,\n",
    "                end_date=jdt.date.today().strftime(\"%Y-%m-%d\"),\n",
    "                ignore_date=False,\n",
    "                show_weekday=False,\n",
    "                double_date=True).rename(columns=str.lower).drop([\"name\",\"market\"], axis=1)\n",
    "            df= pd.concat([df, df_ri])\n",
    "        df = df.merge(stock_list, left_on=\"ticker\", right_on=\"symbol_far\", how=\"inner\")\n",
    "        df.drop([\"ticker\",\"symbol_far\", \"market_id\" ], axis=1, inplace=True)\n",
    "        df.rename(columns={\"date\":\"date_id\", \"symbol\":\"symbol_id\"}, inplace=True)\n",
    "        return db.insert_data(table=\"tsedata_section\", df=df)\n",
    "    return print(\"DB is update\")\n",
    "update_ri(tse_tickers)"
   ]
  },
  {
   "attachments": {},
   "cell_type": "markdown",
   "metadata": {},
   "source": [
    "### Update `tsedata_histprice` DB"
   ]
  },
  {
   "cell_type": "code",
   "execution_count": 70,
   "metadata": {},
   "outputs": [],
   "source": [
    "def update_hist_price(stock_list):\n",
    "\n",
    "    # get max date\n",
    "    date_id = db.query_all(table=\"tsedata_histprice\", cols=\"date_id\")\n",
    "\n",
    "    max_date = date_id.date_id.max()\n",
    "    today = datetime.datetime.today().strftime(\"%Y-%m-%d\")\n",
    "    date = db.query_where(table=\"tsedata_date\", cols=\"date,jweekday\", where=f\" date <= '{today}' and date > '{max_date}'\")\n",
    "    date = date[date.jweekday.isin([0,1,2,3,4])]\n",
    "    \n",
    "    # take data an insert to DB\n",
    "    if len(date):\n",
    "        start_date = date.date[0]\n",
    "        start_date = jdt.date.fromgregorian(year = start_date.year, day=start_date.day, month=start_date.month).strftime(\"%Y-%m-%d\")\n",
    "        df = pd.DataFrame()\n",
    "        for stock in stock_list.symbol_far:\n",
    "            df_hist = fpy.Get_Price_History(\n",
    "                stock=stock,\n",
    "                start_date=start_date,\n",
    "                end_date=jdt.date.today().strftime(\"%Y-%m-%d\"),\n",
    "                ignore_date=False,\n",
    "                adjust_price=True,\n",
    "                show_weekday=False,\n",
    "                double_date=True).rename(columns=str.lower).drop([\"open\",\"high\",\"low\", \"close\", \"final\", \"no\",\"name\",\"market\"], axis=1)\n",
    "            df_hist.columns = [col.replace(\"adj \", \"\") for col in df_hist.columns]\n",
    "            df= pd.concat([df, df_hist])\n",
    "            \n",
    "        df = df.merge(stock_list, left_on=\"ticker\", right_on=\"symbol_far\", how=\"inner\")\n",
    "        df.drop([\"ticker\",\"symbol_far\", \"market_id\" ], axis=1, inplace=True)\n",
    "        df.rename(columns={\"date\":\"date_id\", \"symbol\":\"symbol_id\"}, inplace=True)\n",
    "        return db.insert_data(table=\"tsedata_histprice\", df=df)\n",
    "    return print(\"DB is update\")\n",
    "update_hist_price(tse_tickers)"
   ]
  }
 ],
 "metadata": {
  "kernelspec": {
   "display_name": "Python 3",
   "language": "python",
   "name": "python3"
  },
  "language_info": {
   "codemirror_mode": {
    "name": "ipython",
    "version": 3
   },
   "file_extension": ".py",
   "mimetype": "text/x-python",
   "name": "python",
   "nbconvert_exporter": "python",
   "pygments_lexer": "ipython3",
   "version": "3.11.2"
  },
  "orig_nbformat": 4
 },
 "nbformat": 4,
 "nbformat_minor": 2
}
