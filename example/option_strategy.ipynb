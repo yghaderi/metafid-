{
 "cells": [
  {
   "cell_type": "code",
   "execution_count": 3,
   "metadata": {},
   "outputs": [],
   "source": [
    "import pandas as pd\n",
    "import numpy as np\n",
    "import jdatetime as jdt\n",
    "import requests\n",
    "from collections import namedtuple\n",
    "from itertools import combinations\n",
    "from operator import add\n",
    "import re "
   ]
  },
  {
   "cell_type": "code",
   "execution_count": null,
   "metadata": {},
   "outputs": [],
   "source": [
    "def day_to_ex(ex_date, hist_date):\n",
    "            exd = ex_date.split(\"-\")\n",
    "            hd = hist_date.split(\"-\")\n",
    "            t = jdt.date(int(exd[0]), int(exd[1]), int(exd[2])) - jdt.date(\n",
    "                int(hd[0]), int(hd[1]), int(hd[2])\n",
    "            )"
   ]
  },
  {
   "cell_type": "code",
   "execution_count": 5,
   "metadata": {},
   "outputs": [],
   "source": [
    "def covered_call(df:pd.DataFrame):\n",
    "    \"\"\"\n",
    "    خرید داراییِ پایه و فروشِ همزمانِ اختیارِ خرید\n",
    "    سود-زیان برابر ارزشِ فروش اختیار و تفاوت ارزشِ روزِ دارایی ( در صورت افزایش تا حد قیمتِ اعمال) با ارزشِ خریدِ دارایی است.\n",
    "\n",
    "    :param ua_price:\n",
    "    :param premium:\n",
    "    :param strike_price:\n",
    "    :return: max_pot_profit: حداکثر سود بالقوه- در شرایطی ایجاد می‌شود که قیمتِ داراییِ پایه در تاریخ سر-رسید از قیمتِ اعمال بالاتر-برابر باشد\n",
    "            break_even : اگر قیمتِ داراییِ پایه از این قیمت پایین-تر بیاد، معامله ،وارد زیان می‌شود\n",
    "            pct_max_profit :\n",
    "            current_profit : بر اساسِ قیمتِ کنونیِ داراییِ پایه محاسبه می‌شود\n",
    "            pct_current_profit :\n",
    "    \"\"\"\n",
    "    stg = namedtuple(\"Strategy\", \"buy sell\")\n",
    "    df[\"covered_call\"] = df.apply(lambda x: stg(buy=x[\"ua\"], sell=\"ticker\"))\n",
    "    df = df.assign(max_pot_profit=df.strike_price - df.ua_sell_price + df.buy_price)\n",
    "    df = df.assign(break_even=df.ua_sell_price - df.buy_price)\n",
    "    df = df.assign(pct_max_profit=df.max_pot_profit / df.break_even * 100)\n",
    "    df[\"current_profit\"] = df.apply(\n",
    "        lambda x: min(x[\"strike_price\"], x[\"ua_sell_price\"]) - x[\"ua_sell_price\"] + x[\"buy_price\"], axis=1)\n",
    "    df = df.assign(pct_current_profit=df.current_profit / df.break_even * 100)  \n",
    "\n",
    "    return df"
   ]
  },
  {
   "cell_type": "code",
   "execution_count": null,
   "metadata": {},
   "outputs": [],
   "source": [
    "def call_back_spread(self, df, times):\n",
    "    stg = namedtuple(\"Strategy\", \"buy sell\")\n",
    "    groups = df.groupby(by=[\"ticker\", \"t\"])\n",
    "    df_ = pd.DataFrame()\n",
    "    for name, group in groups:\n",
    "        group.reset_index(inplace=True)\n",
    "        group = group.sort_values(by=[\"strike_price\"], ascending=False)\n",
    "        if len(group) > 1:\n",
    "            combo_o_ticker = list(stg(buy=b, sell=s) for b, s in combinations(group.o_ticker, 2))\n",
    "            combo_strike_price = list(stg(buy=b, sell=s) for b, s in combinations(group.strike_price, 2))\n",
    "            combo_o_adj_final = list(stg(buy=b, sell=s) for b, s in combinations(group.o_adj_final, 2))\n",
    "            combo_bs = list(stg(buy=b, sell=s) for b, s in combinations(group.bs, 2))\n",
    "            premium = [-pb * times + ps for pb, ps in combo_o_adj_final]\n",
    "            max_pot_loss = list(map(add, [-sb + ss for sb, ss in combo_strike_price], premium))\n",
    "            current_profit = []\n",
    "            for i in range(len(combo_strike_price)):\n",
    "                if all(s >= group.adj_final.values[0] for s in combo_strike_price[i]):\n",
    "                    current_profit.append(premium[i])\n",
    "                elif combo_strike_price[i].buy >= group.adj_final.values[0]:\n",
    "                    current_profit.append(- group.adj_final.values[0] + combo_strike_price[i].sell + premium[i])\n",
    "                else:\n",
    "                    current_profit.append((- group.adj_final.values[0] + combo_strike_price[i].sell) + (\n",
    "                                group.adj_final.values[0] - combo_strike_price[i].buy) * times + premium[i])\n",
    "\n",
    "            df_group = pd.DataFrame({\n",
    "                \"o_ticker\": combo_o_ticker,\n",
    "                \"strike_price\": combo_strike_price,\n",
    "                \"t\": group.t.values[0],\n",
    "                \"bs\": combo_bs,\n",
    "                \"adj_final\": group.adj_final.values[0],\n",
    "                \"o_adj_final\": combo_o_adj_final,\n",
    "                \"max_pot_loss\": max_pot_loss,\n",
    "                \"current_profit\": current_profit,\n",
    "            })\n",
    "            df_ = pd.concat([df_, df_group])\n",
    "    return df_"
   ]
  },
  {
   "cell_type": "code",
   "execution_count": 4,
   "metadata": {},
   "outputs": [
    {
     "data": {
      "text/plain": [
       "Strategy(buy='a', sell='d')"
      ]
     },
     "execution_count": 4,
     "metadata": {},
     "output_type": "execute_result"
    }
   ],
   "source": [
    "stg = namedtuple(\"Strategy\", \"buy sell\")\n",
    "stg(\"a\", \"d\")"
   ]
  }
 ],
 "metadata": {
  "kernelspec": {
   "display_name": "Python 3",
   "language": "python",
   "name": "python3"
  },
  "language_info": {
   "codemirror_mode": {
    "name": "ipython",
    "version": 3
   },
   "file_extension": ".py",
   "mimetype": "text/x-python",
   "name": "python",
   "nbconvert_exporter": "python",
   "pygments_lexer": "ipython3",
   "version": "3.11.2"
  },
  "orig_nbformat": 4
 },
 "nbformat": 4,
 "nbformat_minor": 2
}
