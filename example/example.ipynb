{
 "cells": [
  {
   "cell_type": "code",
   "execution_count": 60,
   "metadata": {},
   "outputs": [],
   "source": [
    "from metafid.deriv import Pricing\n",
    "from metafid.deriv import OptionStrategy\n",
    "import pandas as pd\n",
    "import numpy as np\n",
    "import jdatetime as jdt\n",
    "import requests\n",
    "from collections import namedtuple\n",
    "from itertools import combinations\n",
    "from operator import add\n",
    "import re \n",
    "import finpy_tse as fpy\n",
    "import psycopg\n",
    "import jdatetime as jdt\n",
    "import numpy as np\n",
    "import re\n",
    "from CONFIG import DB_PASS as PASS"
   ]
  },
  {
   "cell_type": "code",
   "execution_count": 57,
   "metadata": {},
   "outputs": [
    {
     "data": {
      "text/plain": [
       "'1402-01-02 13:52:31'"
      ]
     },
     "execution_count": 57,
     "metadata": {},
     "output_type": "execute_result"
    }
   ],
   "source": [
    "bs = Pricing()\n",
    "now = jdt.datetime.now().strftime(\"%Y-%m-%d %H:%M:%S\")\n",
    "now"
   ]
  },
  {
   "cell_type": "code",
   "execution_count": 3,
   "metadata": {},
   "outputs": [
    {
     "data": {
      "text/plain": [
       "'https://optionstrategiesinsider.com/blog/28-option-strategies-that-all-options-traders-should-know/'"
      ]
     },
     "execution_count": 3,
     "metadata": {},
     "output_type": "execute_result"
    }
   ],
   "source": [
    "\"https://optionstrategiesinsider.com/blog/28-option-strategies-that-all-options-traders-should-know/\""
   ]
  },
  {
   "cell_type": "code",
   "execution_count": 49,
   "metadata": {},
   "outputs": [],
   "source": [
    "drop_cols = [\"isin\",\"time\",\"open\",\"close\",\"no\",\"volume\",\"low\",\"high\",\"y_final\",\"eps\",\"base_vol\",\"unknown1\",\"unknown2\",\"sector\",\"day_ul\",\"day_ll\", \"share_no\", \"mkt_id\", \"sell_no\", \"buy_no\"]\n",
    "ua_list = [\"شپنا\",\n",
    "\"خودرو\",\n",
    "\"فملي\",\n",
    "\"شستا\",\n",
    "\"وبصادر\",\n",
    "\"فولاد\",\n",
    "\"خگستر\",\n",
    "\"سلام\",\n",
    "\"دي\",\n",
    "\"سرو\",\n",
    "\"خاور\",\n",
    "\"وبملت\",\n",
    "\"خساپا\",\n",
    "\"فخوز\",\n",
    "\"فرابورس\",\n",
    "\"اهرم\",\n",
    "\"حسير\",\n",
    "\"خپارس\",\n",
    "\"هاي وب\",\n",
    "\"چكاپا\",\n",
    "\"توسن\",\n",
    "\"وتجارت\",\n",
    "\"ذوب\",\n",
    "\"بساما\",\n",
    "\"شبندر\",\n",
    "\"سمگا\",\n",
    "\"وخاور\",\n",
    "\"شتران\",\n",
    "\"كاريس\",\n",
    "\"ت ثاميد\",\n",
    "\"پالايش\",\n",
    "\"لبخند\",\n",
    "\"تپسي\",\n",
    "\"كارا\"]\n",
    "\n",
    "def mw(drop_cols:list=None):\n",
    "    headers = {\n",
    "        \"User-Agent\": \"Mozilla/5.0 (Macintosh; Intel Mac OS X 10_10_1) AppleWebKit/537.36 (KHTML, like Gecko) Chrome/39.0.2171.95 Safari/537.36\"\n",
    "    }\n",
    "    r = requests.get(\n",
    "        \"http://www.tsetmc.com/tsev2/data/MarketWatchPlus.aspx\", headers=headers\n",
    "    )\n",
    "    main_text = r.text\n",
    "    ob_df = pd.DataFrame((main_text.split(\"@\")[3]).split(\";\"))\n",
    "    ob_df = ob_df[0].str.split(\",\", expand=True)\n",
    "    ob_df.columns = [\n",
    "        \"web_id\",\n",
    "        \"ob_depth\",\n",
    "        \"sell_no\",\n",
    "        \"buy_no\",\n",
    "        \"buy_price\",\n",
    "        \"sell_price\",\n",
    "        \"buy_vol\",\n",
    "        \"sell_vol\",\n",
    "    ]\n",
    "    ob_df = ob_df[\n",
    "        [\n",
    "            \"web_id\",\n",
    "            \"ob_depth\",\n",
    "            \"sell_no\",\n",
    "            \"sell_vol\",\n",
    "            \"sell_price\",\n",
    "            \"buy_price\",\n",
    "            \"buy_vol\",\n",
    "            \"buy_no\",\n",
    "        ]\n",
    "    ]\n",
    "    ob_df.set_index(\"web_id\", inplace=True)\n",
    "\n",
    "    mw_df = pd.DataFrame((main_text.split(\"@\")[2]).split(\";\"))\n",
    "    mw_df = mw_df[0].str.split(\",\", expand=True)\n",
    "    mw_df = mw_df.iloc[:, :23]\n",
    "    mw_df.columns = [\n",
    "        \"web_id\",\n",
    "        \"isin\",\n",
    "        \"symbol\",\n",
    "        \"name\",\n",
    "        \"time\",\n",
    "        \"open\",\n",
    "        \"final\",\n",
    "        \"close\",\n",
    "        \"no\",\n",
    "        \"volume\",\n",
    "        \"value\",\n",
    "        \"low\",\n",
    "        \"high\",\n",
    "        \"y_final\",\n",
    "        \"eps\",\n",
    "        \"base_vol\",\n",
    "        \"unknown1\",\n",
    "        \"unknown2\",\n",
    "        \"sector\",\n",
    "        \"day_ul\",\n",
    "        \"day_ll\",\n",
    "        \"share_no\",\n",
    "        \"mkt_id\",\n",
    "    ]\n",
    "    mw_df.set_index(\"web_id\", inplace=True)\n",
    "    df = mw_df.join(ob_df)\n",
    "    df = df.assign(dt=jdt.datetime.now().strftime(\"%Y-%m-%d %H:%M:%S\"))\n",
    "    if drop_cols:\n",
    "        return df.drop(columns = drop_cols, axis=1)\n",
    "    else:\n",
    "        return df"
   ]
  },
  {
   "cell_type": "code",
   "execution_count": 50,
   "metadata": {},
   "outputs": [],
   "source": [
    "def option_data():\n",
    "    mw_df = mw(drop_cols=drop_cols)\n",
    "\n",
    "    ua_df = mw_df[(mw_df.symbol.isin(ua_list)) & (mw_df.value.astype(int) > 0) & (mw_df.ob_depth.astype(int)==1)].add_prefix(\"ua_\")\n",
    "    ua_df.rename(columns={\"ua_symbol\":\"ua\"}, inplace=True)\n",
    "    ua_df.drop_duplicates(inplace=True)\n",
    "    \n",
    "    mw_df = mw_df[mw_df.name.str.startswith(\"اختيار\")]\n",
    "    def expand_option_info(df):\n",
    "        def clean_date(x):\n",
    "            date_ =re.findall(\"[0-9]+\", x)\n",
    "            date_ = \"\".join(date_)\n",
    "            if len(date_)==8:\n",
    "                return f\"{date_[:4]}-{date_[4:6]}-{date_[6:8]}\"\n",
    "            elif len(date_)==6:\n",
    "                return f\"14{date_[:2]}-{date_[2:4]}-{date_[4:6]}\"\n",
    "            else:\n",
    "                print(\"bad data!\")\n",
    "                return None\n",
    "        def clean_ua(x):\n",
    "            return x.replace(\"اختيارخ \", \"\").replace('اختيارف ' ,\"\")  \n",
    "        \n",
    "        def day_to_ex(ex_date):\n",
    "            y, m, d = map(int,(tuple(ex_date.split(\"-\"))))\n",
    "            return (jdt.date(y, m, d) - jdt.date.today()).days\n",
    "        \n",
    "\n",
    "        df[[\"ua\", \"strike_price\",\"ex_date\"]] = df.name.str.split(\"-\", expand= True)\n",
    "        df = df.assign(ua = df.ua.map(clean_ua))\n",
    "        df = df.merge(ua_df, on=\"ua\", how=\"inner\")\n",
    "        df = df[~df.ex_date.isnull()]\n",
    "        df = df.assign(ex_date = df.ex_date.map(clean_date))\n",
    "        df = df.assign(t = df.ex_date.map(day_to_ex))\n",
    "        return df\n",
    "    df = expand_option_info(mw_df)\n",
    "    df = df.apply(pd.to_numeric, errors='ignore')\n",
    "    return df"
   ]
  },
  {
   "cell_type": "code",
   "execution_count": 70,
   "metadata": {},
   "outputs": [],
   "source": [
    "def query_df(cols, table):\n",
    "    with psycopg.connect(f\"dbname=metafid user=postgres password={PASS}\") as conn:\n",
    "    # Open a cursor to perform database operations\n",
    "        with conn.cursor() as cur:\n",
    "            cur.execute(f\"SELECT {cols} FROM {table}\")\n",
    "            cur.fetchone()\n",
    "            conn.commit()\n",
    "            return pd.DataFrame([i[0] for i in cur], columns=re.findall(\"[a-z A-Z]+\", cols))\n",
    "sigma_df = query_df(\"(ua,sigma)\", \"sigma\")"
   ]
  },
  {
   "cell_type": "code",
   "execution_count": 76,
   "metadata": {},
   "outputs": [],
   "source": [
    "df = option_data()\n",
    "def option_type(x):\n",
    "    return \"call\" if x.startswith(\"ض\") else \"put\"\n",
    "df = df.assign(type=df.symbol.map(option_type))\n",
    "df = df.merge(sigma_df, on=\"ua\", how=\"inner\")\n",
    "df[\"bs\"] = df.apply(lambda x: bs.black_scholes(s_0=x[\"ua_final\"], k=x[\"strike_price\"], t=x[\"t\"],sigma=float(x[\"sigma\"]),type_=x[\"type\"]),axis=1)\n",
    "call = df[df.type ==\"call\"]\n",
    "put = df[df.type ==\"put\"]\n"
   ]
  },
  {
   "cell_type": "code",
   "execution_count": 7,
   "metadata": {},
   "outputs": [],
   "source": [
    "def married_put(df):\n",
    "    \"\"\"\n",
    "    خرید داراییِ پایه و خریدِ همزمان اختیارِ فروش\n",
    "    سود-زیان  برابرِ اختلافِ ارزشِ روز دارایی (در صورت کاهش تا حد قیمتِ اعمال) با ارزشِ خرید دارایی منهایِ ارزش خرید اختیارِ فروش است.\n",
    "    :param df: with (ua, symbol, strike_price, ua_sell_price, sell_price) columns. ua: Underlying Asset\n",
    "    :return: max_pot_profit: حداکثر سود بالقوه- در شرایطی ایجاد می‌شود که قیمتِ داراییِ پایه در تاریخ سر-رسید از قیمتِ اعمال بالاتر-برابر باشد\n",
    "            break_even : اگر قیمتِ داراییِ پایه از این قیمت پایین-تر بیاد، معامله ،وارد زیان می‌شود\n",
    "            pct_max_profit :\n",
    "            current_profit : بر اساسِ قیمتِ کنونیِ داراییِ پایه محاسبه می‌شود\n",
    "            pct_current_profit :\n",
    "    \"\"\"\n",
    "    df = df[df.sell_price>0]\n",
    "    stg = namedtuple(\"Married-Put\", \"buy buy_\")\n",
    "    df[\"buy_buy\"] = df.apply(\n",
    "        lambda x: stg(buy=x[\"ua\"], buy_=x[\"symbol\"]), axis=1\n",
    "    )\n",
    "    df = df.assign(max_pot_profit=\"indefinite\")\n",
    "    df = df.assign(break_even=df.ua_sell_price + df.sell_price)\n",
    "    df[\"current_profit\"] = df.apply(\n",
    "        lambda x: max(x[\"strike_price\"], x[\"ua_sell_price\"]) - x[\"ua_sell_price\"] - x[\"sell_price\"], axis=1)\n",
    "    df = df.assign(pct_current_profit=df.current_profit / df.break_even * 100)\n",
    "    df = df.assign(pct_profit_per_day=df.pct_current_profit / df.t)\n",
    "\n",
    "    return df.sort_values(by=\"pct_profit_per_day\", ascending=False)"
   ]
  },
  {
   "cell_type": "code",
   "execution_count": 77,
   "metadata": {},
   "outputs": [],
   "source": [
    "def bear_call_spread(df):\n",
    "        \"\"\"\n",
    "        فروش اختیار خرید با قیمتِ اعمالِ پایین-تر و خرید اختیارِ خریدِ با قیمتِ اعمالِ بالا-تر و تاریخِ اعمالِ همسان\n",
    "        بیشینه سود برابر است با تفاوتِ بینِ دو قیمتِ اعمال منهایِ پرمیوم پرداختی\n",
    "        بیشینه ضرر هم برابر است با پرمیوم پرداختی\n",
    "         :param df: with (ua, symbol, t, strike_price, ua_final, sell_price, buy_price) columns. ua: Underlying Asset\n",
    "         :return:max_pot_loss: max_pot_loss\n",
    "                max_pot_profit: max_pot_profit\n",
    "                current_profit: current_profit\n",
    "        \"\"\"\n",
    "        stg = namedtuple(\"Bear-Call-Spread\", \"sell buy\")\n",
    "        groups = df.groupby(by=[\"ua\", \"t\"])\n",
    "        df_ = pd.DataFrame()\n",
    "        for name, group in groups:\n",
    "            group.reset_index(inplace=True)\n",
    "            group = group.sort_values(by=[\"strike_price\"], ascending=False)\n",
    "            if len(group) > 1:\n",
    "                combo_symbol = list(stg(sell=s, buy=b) for s, b in combinations(group.symbol, 2))\n",
    "                combo_strike_price = list(stg(sell=s, buy=b) for s, b in combinations(group.strike_price, 2))\n",
    "                combo_ob_price = list(stg(sell=s, buy=b) for s, b in combinations(group[[\"sell_price\", \"buy_price\"]].itertuples(index=False), 2))\n",
    "                combo_bs = list(stg(sell=s, buy=b) for s, b in combinations(group.bs, 2))\n",
    "                max_pot_loss = [ps.buy_price - pb.sell_price for ps, pb in combo_ob_price]\n",
    "                max_pot_profit = list(\n",
    "                    map(add, [ss - sb for ss, sb in combo_strike_price], max_pot_loss)\n",
    "                )\n",
    "                current_profit = []\n",
    "                for i in range(len(combo_strike_price)):\n",
    "                    if all(\n",
    "                        s <= group.ua_final.values[0] for s in combo_strike_price[i]\n",
    "                    ):\n",
    "                        current_profit.append(max_pot_profit[i])\n",
    "                    elif all(\n",
    "                        s >= group.ua_final.values[0] for s in combo_strike_price[i]\n",
    "                    ):\n",
    "                        current_profit.append(max_pot_loss[i])\n",
    "                    else:\n",
    "                        current_profit.append(\n",
    "                            group.ua_final.values[0]\n",
    "                            - combo_strike_price[i].buy\n",
    "                            + max_pot_loss[i]\n",
    "                        )\n",
    "\n",
    "                df_group = pd.DataFrame(\n",
    "                    {\n",
    "                        \"symbol\": combo_symbol,\n",
    "                        \"strike_price\": combo_strike_price,\n",
    "                        \"t\": group.t.values[0],\n",
    "                        \"bs\": combo_bs,\n",
    "                        \"ua_final\": group.ua_final.values[0],\n",
    "                        \"ob_price\": combo_ob_price,\n",
    "                        \"max_pot_loss\": max_pot_loss,\n",
    "                        \"max_pot_profit\": max_pot_profit,\n",
    "                        \"current_profit\": current_profit,\n",
    "                    }\n",
    "                )\n",
    "                df_ = pd.concat([df_, df_group])\n",
    "        return df_"
   ]
  },
  {
   "cell_type": "code",
   "execution_count": 78,
   "metadata": {},
   "outputs": [],
   "source": [
    "df_bsc = bull_call_spread(call[(call.ob_depth==1) &(call.sell_price>0) &(call.buy_price>0)])"
   ]
  },
  {
   "cell_type": "code",
   "execution_count": 79,
   "metadata": {},
   "outputs": [],
   "source": [
    "df_bsc.to_excel(\"bull_call_spread.xlsx\")"
   ]
  },
  {
   "cell_type": "code",
   "execution_count": 36,
   "metadata": {},
   "outputs": [
    {
     "data": {
      "text/plain": [
       "Index(['symbol', 'name', 'value', 'ob_depth', 'sell_vol', 'sell_price',\n",
       "       'buy_price', 'buy_vol', 'dt', 'ua', 'strike_price', 'ex_date',\n",
       "       'ua_name', 'ua_value', 'ua_ob_depth', 'ua_sell_vol', 'ua_sell_price',\n",
       "       'ua_buy_price', 'ua_buy_vol', 'ua_dt', 't'],\n",
       "      dtype='object')"
      ]
     },
     "execution_count": 36,
     "metadata": {},
     "output_type": "execute_result"
    }
   ],
   "source": [
    "call.columns"
   ]
  },
  {
   "cell_type": "code",
   "execution_count": null,
   "metadata": {},
   "outputs": [],
   "source": []
  }
 ],
 "metadata": {
  "kernelspec": {
   "display_name": "Python 3",
   "language": "python",
   "name": "python3"
  },
  "language_info": {
   "codemirror_mode": {
    "name": "ipython",
    "version": 3
   },
   "file_extension": ".py",
   "mimetype": "text/x-python",
   "name": "python",
   "nbconvert_exporter": "python",
   "pygments_lexer": "ipython3",
   "version": "3.11.2"
  },
  "orig_nbformat": 4,
  "vscode": {
   "interpreter": {
    "hash": "b0fa6594d8f4cbf19f97940f81e996739fb7646882a419484c72d19e05852a7e"
   }
  }
 },
 "nbformat": 4,
 "nbformat_minor": 2
}
