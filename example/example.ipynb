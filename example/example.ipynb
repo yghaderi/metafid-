{
 "cells": [
  {
   "cell_type": "code",
   "execution_count": 1,
   "metadata": {},
   "outputs": [],
   "source": [
    "from metafid.deriv import Pricing, OptionStrategy\n",
    "from metafid.data import TSETMC\n",
    "import pandas as pd\n",
    "import numpy as np\n",
    "import jdatetime as jdt\n",
    "import requests\n",
    "from collections import namedtuple\n",
    "from itertools import combinations\n",
    "from operator import add\n",
    "import re \n",
    "import finpy_tse as fpy\n",
    "import psycopg\n",
    "import jdatetime as jdt\n",
    "import numpy as np\n",
    "import re\n",
    "from CONFIG import DB_PASS as PASS"
   ]
  },
  {
   "cell_type": "code",
   "execution_count": 2,
   "metadata": {},
   "outputs": [],
   "source": [
    "drop_cols = [\"isin\",\"time\",\"open\",\"close\",\"no\",\"volume\",\"low\",\"high\",\"y_final\",\"eps\",\"base_vol\",\"unknown1\",\"unknown2\",\"sector\",\"day_ul\",\"day_ll\", \"share_no\", \"mkt_id\", \"sell_no\", \"buy_no\"]\n",
    "ua_list = [\"شپنا\",\"خودرو\",\"فملي\",\"شستا\",\"وبصادر\",\"فولاد\",\"خگستر\",\"سلام\",\"دي\",\"سرو\",\"خاور\",\"وبملت\",\"خساپا\",\"فخوز\",\"فرابورس\",\"اهرم\",\"حسير\",\"خپارس\",\"هاي وب\",\"چكاپا\",\"توسن\",\"وتجارت\",\"ذوب\",\"بساما\",\"شبندر\",\"سمگا\",\"وخاور\",\"شتران\",\"كاريس\",\"ت ثاميد\",\"پالايش\",\"لبخند\",\"تپسي\",\"كارا\"]"
   ]
  },
  {
   "cell_type": "code",
   "execution_count": 3,
   "metadata": {},
   "outputs": [
    {
     "data": {
      "text/plain": [
       "'1402-01-03 02:24:08'"
      ]
     },
     "execution_count": 3,
     "metadata": {},
     "output_type": "execute_result"
    }
   ],
   "source": [
    "bs = Pricing()\n",
    "tsetmc = TSETMC(ua=ua_list, drop_cols=drop_cols)\n",
    "now = jdt.datetime.now().strftime(\"%Y-%m-%d %H:%M:%S\")\n",
    "now"
   ]
  },
  {
   "cell_type": "code",
   "execution_count": 88,
   "metadata": {},
   "outputs": [
    {
     "data": {
      "text/plain": [
       "'https://optionstrategiesinsider.com/blog/28-option-strategies-that-all-options-traders-should-know/'"
      ]
     },
     "execution_count": 88,
     "metadata": {},
     "output_type": "execute_result"
    }
   ],
   "source": [
    "\"https://optionstrategiesinsider.com/blog/28-option-strategies-that-all-options-traders-should-know/\""
   ]
  },
  {
   "cell_type": "code",
   "execution_count": 6,
   "metadata": {},
   "outputs": [],
   "source": [
    "def query_df(cols, table):\n",
    "    with psycopg.connect(f\"dbname=metafid user=postgres password={PASS}\") as conn:\n",
    "    # Open a cursor to perform database operations\n",
    "        with conn.cursor() as cur:\n",
    "            cur.execute(f\"SELECT {cols} FROM {table}\")\n",
    "            cur.fetchone()\n",
    "            conn.commit()\n",
    "            return pd.DataFrame([i[0] for i in cur], columns=re.findall(\"[a-z A-Z]+\", cols))\n",
    "sigma_df = query_df(\"(ua,sigma)\", \"sigma\")"
   ]
  },
  {
   "cell_type": "code",
   "execution_count": 11,
   "metadata": {},
   "outputs": [],
   "source": [
    "df = tsetmc.option_mv()\n",
    "def option_type(x):\n",
    "    return \"call\" if x.startswith(\"ض\") else \"put\"\n",
    "df = df.assign(type=df.symbol.map(option_type))\n",
    "df = df.merge(sigma_df, on=\"ua\", how=\"inner\")\n",
    "df[\"bs\"] = df.apply(lambda x: round(bs.black_scholes(s_0=x[\"ua_final\"], k=x[\"strike_price\"], t=x[\"t\"],sigma=float(x[\"sigma\"]),type_=x[\"type\"]),0),axis=1)\n",
    "call = df[df.type ==\"call\"]\n",
    "put = df[df.type ==\"put\"]\n"
   ]
  },
  {
   "cell_type": "code",
   "execution_count": 131,
   "metadata": {},
   "outputs": [],
   "source": [
    "def same_strike_and_ex_date_on_call_put(call, put):\n",
    "    cols = [i for i in call.columns if not i.startswith(\"ua_\") and i not in [\"t\", \"sigma\", \"dt\", \"type\"]]\n",
    "    def cols_(x):\n",
    "        if (x.endswith(\"_x\")) and (x.startswith(\"ua_\")):\n",
    "            return x.replace(\"_x\",\"\")\n",
    "        elif (x.endswith(\"_x\")):\n",
    "            return \"call_\" + x.replace(\"_x\",\"\")\n",
    "        elif (x.endswith(\"_y\")):\n",
    "            return \"put_\" + x.replace(\"_y\",\"\")\n",
    "        else:\n",
    "            return x\n",
    "    df = call.merge(put[cols], on=[\"ua\", \"strike_price\", \"ex_date\"], how=\"inner\")\n",
    "    df.columns = list(map(cols_, df.columns))\n",
    "    return df\n"
   ]
  }
 ],
 "metadata": {
  "kernelspec": {
   "display_name": "Python 3",
   "language": "python",
   "name": "python3"
  },
  "language_info": {
   "codemirror_mode": {
    "name": "ipython",
    "version": 3
   },
   "file_extension": ".py",
   "mimetype": "text/x-python",
   "name": "python",
   "nbconvert_exporter": "python",
   "pygments_lexer": "ipython3",
   "version": "3.11.2"
  },
  "orig_nbformat": 4,
  "vscode": {
   "interpreter": {
    "hash": "b0fa6594d8f4cbf19f97940f81e996739fb7646882a419484c72d19e05852a7e"
   }
  }
 },
 "nbformat": 4,
 "nbformat_minor": 2
}
