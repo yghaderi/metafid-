{
 "cells": [
  {
   "cell_type": "code",
   "execution_count": 304,
   "metadata": {},
   "outputs": [],
   "source": [
    "from metafid.deriv import Pricing\n",
    "from metafid.deriv import OptionStrategy\n",
    "import pandas as pd\n",
    "import numpy as np\n",
    "import jdatetime\n",
    "import requests\n",
    "from collections import namedtuple\n",
    "from itertools import combinations\n",
    "from operator import add\n",
    "import re "
   ]
  },
  {
   "cell_type": "code",
   "execution_count": 305,
   "metadata": {},
   "outputs": [
    {
     "data": {
      "text/plain": [
       "'1401-12-28 18:58:08'"
      ]
     },
     "execution_count": 305,
     "metadata": {},
     "output_type": "execute_result"
    }
   ],
   "source": [
    "now = jdatetime.datetime.now().strftime(\"%Y-%m-%d %H:%M:%S\")\n",
    "now"
   ]
  },
  {
   "cell_type": "code",
   "execution_count": 306,
   "metadata": {},
   "outputs": [
    {
     "data": {
      "text/plain": [
       "'https://optionstrategiesinsider.com/blog/28-option-strategies-that-all-options-traders-should-know/'"
      ]
     },
     "execution_count": 306,
     "metadata": {},
     "output_type": "execute_result"
    }
   ],
   "source": [
    "\"https://optionstrategiesinsider.com/blog/28-option-strategies-that-all-options-traders-should-know/\""
   ]
  },
  {
   "cell_type": "code",
   "execution_count": 307,
   "metadata": {},
   "outputs": [],
   "source": [
    "ua_list = [\"شپنا\",\n",
    "\"خودرو\",\n",
    "\"فملي\",\n",
    "\"شستا\",\n",
    "\"وبصادر\",\n",
    "\"فولاد\",\n",
    "\"خگستر\",\n",
    "\"سلام\",\n",
    "\"دي\",\n",
    "\"سرو\",\n",
    "\"خاور\",\n",
    "\"وبملت\",\n",
    "\"خساپا\",\n",
    "\"فخوز\",\n",
    "\"فرابورس\",\n",
    "\"اهرم\",\n",
    "\"حسير\",\n",
    "\"خپارس\",\n",
    "\"هاي وب\",\n",
    "\"چكاپا\",\n",
    "\"توسن\",\n",
    "\"وتجارت\",\n",
    "\"ذوب\",\n",
    "\"بساما\",\n",
    "\"شبندر\",\n",
    "\"سمگا\",\n",
    "\"وخاور\",\n",
    "\"شتران\",\n",
    "\"كاريس\",\n",
    "\"ت ثاميد\",\n",
    "\"پالايش\",\n",
    "\"لبخند\",\n",
    "\"تپسي\",\n",
    "\"كارا\"]\n",
    "\n",
    "def mw():\n",
    "    headers = {\n",
    "        \"User-Agent\": \"Mozilla/5.0 (Macintosh; Intel Mac OS X 10_10_1) AppleWebKit/537.36 (KHTML, like Gecko) Chrome/39.0.2171.95 Safari/537.36\"\n",
    "    }\n",
    "    r = requests.get(\n",
    "        \"http://www.tsetmc.com/tsev2/data/MarketWatchPlus.aspx\", headers=headers\n",
    "    )\n",
    "    main_text = r.text\n",
    "    ob_df = pd.DataFrame((main_text.split(\"@\")[3]).split(\";\"))\n",
    "    ob_df = ob_df[0].str.split(\",\", expand=True)\n",
    "    ob_df.columns = [\n",
    "        \"web_id\",\n",
    "        \"ob_depth\",\n",
    "        \"sell_no\",\n",
    "        \"buy_no\",\n",
    "        \"buy_price\",\n",
    "        \"sell_price\",\n",
    "        \"buy_vol\",\n",
    "        \"sell_vol\",\n",
    "    ]\n",
    "    ob_df = ob_df[\n",
    "        [\n",
    "            \"web_id\",\n",
    "            \"ob_depth\",\n",
    "            \"sell_no\",\n",
    "            \"sell_vol\",\n",
    "            \"sell_price\",\n",
    "            \"buy_price\",\n",
    "            \"buy_vol\",\n",
    "            \"buy_no\",\n",
    "        ]\n",
    "    ]\n",
    "    ob_df.set_index(\"web_id\", inplace=True)\n",
    "\n",
    "    mw_df = pd.DataFrame((main_text.split(\"@\")[2]).split(\";\"))\n",
    "    mw_df = mw_df[0].str.split(\",\", expand=True)\n",
    "    mw_df = mw_df.iloc[:, :23]\n",
    "    mw_df.columns = [\n",
    "        \"web_id\",\n",
    "        \"isin\",\n",
    "        \"ticker\",\n",
    "        \"name\",\n",
    "        \"time\",\n",
    "        \"open\",\n",
    "        \"final\",\n",
    "        \"close\",\n",
    "        \"no\",\n",
    "        \"volume\",\n",
    "        \"value\",\n",
    "        \"low\",\n",
    "        \"high\",\n",
    "        \"y_final\",\n",
    "        \"eps\",\n",
    "        \"base_vol\",\n",
    "        \"unknown1\",\n",
    "        \"unknown2\",\n",
    "        \"sector\",\n",
    "        \"day_ul\",\n",
    "        \"day_ll\",\n",
    "        \"share_no\",\n",
    "        \"mkt_id\",\n",
    "    ]\n",
    "    mw_df.set_index(\"web_id\", inplace=True)\n",
    "    df = mw_df.join(ob_df)\n",
    "    df = df.assign(dt=jdatetime.datetime.now().strftime(\"%Y-%m-%d %H:%M:%S\"))\n",
    "\n",
    "    return df"
   ]
  },
  {
   "cell_type": "code",
   "execution_count": null,
   "metadata": {},
   "outputs": [],
   "source": []
  },
  {
   "cell_type": "code",
   "execution_count": 308,
   "metadata": {},
   "outputs": [],
   "source": [
    "def option_data():\n",
    "    mw_df = mw()\n",
    "\n",
    "    ua_df = mw_df[(mw_df.ticker.isin(ua_list)) & (mw_df.value.astype(int) > 0)][[\"ticker\", \"final\"]]\n",
    "    ua_df.rename(columns={\"ticker\":\"ua\", \"final\":\"ua_final\"}, inplace=True)\n",
    "    ua_df.drop_duplicates(inplace=True)\n",
    "    \n",
    "    mw_df = mw_df[mw_df.name.str.startswith(\"اختيار\")]\n",
    "    def expand_option_info(df):\n",
    "        def clean_date(x):\n",
    "            date_ =re.findall(\"[0-9]+\", x)\n",
    "            date_ = \"\".join(date_)\n",
    "            if len(date_)==8:\n",
    "                return f\"{date_[:4]}-{date_[4:6]}-{date_[6:8]}\"\n",
    "            elif len(date_)==6:\n",
    "                return f\"00{date_[:2]}-{date_[2:4]}-{date_[4:6]}\"\n",
    "            else:\n",
    "                print(\"bad data!\")\n",
    "                return None\n",
    "        def clean_ua(x):\n",
    "            return x.replace(\"اختيارخ \", \"\").replace('اختيارف ' ,\"\")  \n",
    "        \n",
    "\n",
    "        df[[\"ua\", \"strike_price\",\"ex_date\"]] = df.name.str.split(\"-\", expand= True)\n",
    "        df = df.assign(ua = df.ua.map(clean_ua))\n",
    "        df = df.merge(ua_df, on=\"ua\", how=\"inner\")\n",
    "        df = df[~df.ex_date.isnull()]\n",
    "        df = df.assign(ex_date = df.ex_date.map(clean_date))\n",
    "        return df\n",
    "    df = expand_option_info(mw_df)\n",
    "    df = df.apply(pd.to_numeric, errors='ignore')\n",
    "    return df"
   ]
  },
  {
   "cell_type": "code",
   "execution_count": 309,
   "metadata": {},
   "outputs": [],
   "source": [
    "df = option_data()\n"
   ]
  },
  {
   "cell_type": "code",
   "execution_count": null,
   "metadata": {},
   "outputs": [],
   "source": []
  }
 ],
 "metadata": {
  "kernelspec": {
   "display_name": "Python 3",
   "language": "python",
   "name": "python3"
  },
  "language_info": {
   "codemirror_mode": {
    "name": "ipython",
    "version": 3
   },
   "file_extension": ".py",
   "mimetype": "text/x-python",
   "name": "python",
   "nbconvert_exporter": "python",
   "pygments_lexer": "ipython3",
   "version": "3.11.2"
  },
  "orig_nbformat": 4,
  "vscode": {
   "interpreter": {
    "hash": "b0fa6594d8f4cbf19f97940f81e996739fb7646882a419484c72d19e05852a7e"
   }
  }
 },
 "nbformat": 4,
 "nbformat_minor": 2
}
