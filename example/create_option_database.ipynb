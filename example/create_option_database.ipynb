{
 "cells": [
  {
   "cell_type": "code",
   "execution_count": 27,
   "metadata": {},
   "outputs": [],
   "source": [
    "import pandas as pd\n",
    "import finpy_tse as fpy\n",
    "import psycopg\n",
    "from psycopg import Cursor\n",
    "from sqlalchemy import create_engine\n",
    "import jdatetime as jdt\n",
    "import numpy as np\n",
    "import re\n",
    "from .CONFIG import DB_PASS as PASS"
   ]
  },
  {
   "cell_type": "code",
   "execution_count": 44,
   "metadata": {},
   "outputs": [],
   "source": [
    "# Connect to an existing database\n",
    "with psycopg.connect(f\"dbname=metafid user=postgres password={PASS}\") as conn:\n",
    "    # Open a cursor to perform database operations\n",
    "    with conn.cursor() as cur:\n",
    "        # Execute a command: this creates a new table\n",
    "        cur.execute(\"\"\"\n",
    "        CREATE TABLE \"sigma\" (\n",
    "            \"ua\" varchar PRIMARY KEY,\n",
    "            \"sigma\" decimal NOT NULL\n",
    "            );\n",
    "        ALTER TABLE \"sigma\" ADD FOREIGN KEY (\"ua\") REFERENCES \"ua\" (\"ua\");\n",
    "        \"\"\")\n",
    "\n",
    "        # Make the changes to the database persistent\n",
    "        conn.commit()\n"
   ]
  },
  {
   "cell_type": "code",
   "execution_count": null,
   "metadata": {},
   "outputs": [],
   "source": [
    "\n",
    "with psycopg.connect(\"dbname=metafid user=postgres password=*****\") as conn:\n",
    "    # Open a cursor to perform database operations\n",
    "    with conn.cursor() as cur:\n",
    "        with cur.copy(\"COPY ua (ua) FROM STDIN\") as copy:\n",
    "            for record in ua_tuple:\n",
    "                copy.write_row(record)\n",
    "        # Make the changes to the database persistent\n",
    "        conn.commit()"
   ]
  },
  {
   "cell_type": "code",
   "execution_count": 48,
   "metadata": {},
   "outputs": [],
   "source": [
    "def insert_data(table,cols, records):\n",
    "    with psycopg.connect(f\"dbname=metafid user=postgres password={PASS}\") as conn:\n",
    "    # Open a cursor to perform database operations\n",
    "        with conn.cursor() as cur:\n",
    "            with cur.copy(f\"COPY {table} {cols} FROM STDIN\") as copy:\n",
    "                for record in records:\n",
    "                    copy.write_row(record)\n",
    "            # Make the changes to the database persistent\n",
    "            conn.commit()"
   ]
  },
  {
   "cell_type": "code",
   "execution_count": 47,
   "metadata": {},
   "outputs": [],
   "source": [
    "def query(cols, table):\n",
    "    with psycopg.connect(f\"dbname=metafid user=postgres password={PASS}\") as conn:\n",
    "    # Open a cursor to perform database operations\n",
    "        with conn.cursor() as cur:\n",
    "            cur.execute(f\"SELECT {cols} FROM {table}\")\n",
    "            cur.fetchone()\n",
    "            conn.commit()\n",
    "            return [i[0] for i in cur]"
   ]
  },
  {
   "cell_type": "code",
   "execution_count": 24,
   "metadata": {},
   "outputs": [],
   "source": [
    "def query_df(cols, table):\n",
    "    with psycopg.connect(f\"dbname=metafid user=postgres password={PASS}\") as conn:\n",
    "    # Open a cursor to perform database operations\n",
    "        with conn.cursor() as cur:\n",
    "            cur.execute(f\"SELECT {cols} FROM {table}\")\n",
    "            cur.fetchone()\n",
    "            conn.commit()\n",
    "            return pd.DataFrame([i[0] for i in cur], columns=re.findall(\"[a-z A-Z]+\", cols))"
   ]
  },
  {
   "cell_type": "code",
   "execution_count": 10,
   "metadata": {},
   "outputs": [],
   "source": [
    "def drop(table, condition):\n",
    "    with psycopg.connect(f\"dbname=metafid user=postgres password={PASS}\") as conn:\n",
    "    # Open a cursor to perform database operations\n",
    "        with conn.cursor() as cur:\n",
    "            cur.execute(f\"DELETE FROM {table} WHERE {condition}\")\n",
    "            conn.commit()"
   ]
  },
  {
   "cell_type": "code",
   "execution_count": 11,
   "metadata": {},
   "outputs": [],
   "source": [
    "drop(\"ua\", \"ua='ت ثاميد'\")"
   ]
  },
  {
   "cell_type": "code",
   "execution_count": 12,
   "metadata": {},
   "outputs": [],
   "source": [
    "ua = query(\"ua\", \"ua\")"
   ]
  },
  {
   "cell_type": "code",
   "execution_count": null,
   "metadata": {},
   "outputs": [],
   "source": [
    "today = str(jdt.date.today())\n",
    "ago_700 = str(jdt.date.today() - jdt.timedelta(days=700))\n",
    "ua_hist = pd.DataFrame()\n",
    "for ticker in ua:\n",
    "    print(ticker)\n",
    "    df = (\n",
    "        fpy.Get_Price_History(\n",
    "            stock=ticker,\n",
    "            start_date=ago_700,\n",
    "            end_date=today,\n",
    "            ignore_date=False,\n",
    "            adjust_price=True,\n",
    "            show_weekday=False,\n",
    "            double_date=True,\n",
    "        )\n",
    "        .reset_index()\n",
    "        .rename(\n",
    "            columns=lambda x: str.lower(x.replace(\" \", \"_\").replace(\"-\", \"_\"))\n",
    "        )\n",
    "    )\n",
    "    \n",
    "    cols = [\"date\", \"ticker\"]+[\"adf\"]\n",
    "    ua_hist = pd.concat([ua_hist, df])"
   ]
  },
  {
   "cell_type": "code",
   "execution_count": 63,
   "metadata": {},
   "outputs": [],
   "source": [
    "cols = [\"date\", \"ticker\"]+[col for col in ua_hist.columns if \"adj\" in col ]\n",
    "cols_db = \"(date, ua, open, high, low, close, final)\"\n",
    "ua_hist = ua_hist[cols]"
   ]
  },
  {
   "cell_type": "code",
   "execution_count": 61,
   "metadata": {},
   "outputs": [],
   "source": [
    "\n",
    "ua_hist_list = list(ua_hist.itertuples(index=False, name=None))"
   ]
  },
  {
   "cell_type": "code",
   "execution_count": 67,
   "metadata": {},
   "outputs": [],
   "source": [
    "insert_data(table=\"ua_hist\", cols=cols_db, records=ua_hist_list)"
   ]
  },
  {
   "cell_type": "code",
   "execution_count": 53,
   "metadata": {},
   "outputs": [
    {
     "data": {
      "text/plain": [
       "[]"
      ]
     },
     "execution_count": 53,
     "metadata": {},
     "output_type": "execute_result"
    }
   ],
   "source": [
    "query(cols=cols_db, table='ua_hist')"
   ]
  },
  {
   "cell_type": "code",
   "execution_count": 26,
   "metadata": {},
   "outputs": [],
   "source": [
    "df = query_df(\"(ua,final)\", \"ua_hist\")"
   ]
  },
  {
   "cell_type": "code",
   "execution_count": 36,
   "metadata": {},
   "outputs": [],
   "source": [
    "def sigma(price:pd.Series):\n",
    "    # calc sigma\n",
    "    pct_change = np.log(1 + price.pct_change())\n",
    "    return pct_change.std()"
   ]
  },
  {
   "cell_type": "code",
   "execution_count": 45,
   "metadata": {},
   "outputs": [],
   "source": [
    "groups = df.groupby(by=\"ua\")\n",
    "sigma_list = []\n",
    "for name, group in groups:\n",
    "    sigma_list.append((name,sigma(group.final[-100:].astype(int))))\n",
    "    "
   ]
  },
  {
   "cell_type": "code",
   "execution_count": 49,
   "metadata": {},
   "outputs": [],
   "source": [
    "insert_data(\"sigma\", \"(ua, sigma)\", sigma_list)"
   ]
  }
 ],
 "metadata": {
  "kernelspec": {
   "display_name": "Python 3",
   "language": "python",
   "name": "python3"
  },
  "language_info": {
   "codemirror_mode": {
    "name": "ipython",
    "version": 3
   },
   "file_extension": ".py",
   "mimetype": "text/x-python",
   "name": "python",
   "nbconvert_exporter": "python",
   "pygments_lexer": "ipython3",
   "version": "3.11.2"
  },
  "orig_nbformat": 4
 },
 "nbformat": 4,
 "nbformat_minor": 2
}
